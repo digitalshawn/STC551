{
  "nbformat": 4,
  "nbformat_minor": 0,
  "metadata": {
    "colab": {
      "name": "GSDMM Example",
      "provenance": [],
      "authorship_tag": "ABX9TyMEFWHj1IIXi90r5reIXkQ8",
      "include_colab_link": true
    },
    "kernelspec": {
      "name": "python3",
      "display_name": "Python 3"
    },
    "language_info": {
      "name": "python"
    }
  },
  "cells": [
    {
      "cell_type": "markdown",
      "metadata": {
        "id": "view-in-github",
        "colab_type": "text"
      },
      "source": [
        "<a href=\"https://colab.research.google.com/github/digitalshawn/STC551/blob/main/GSDMM_Example.ipynb\" target=\"_parent\"><img src=\"https://colab.research.google.com/assets/colab-badge.svg\" alt=\"Open In Colab\"/></a>"
      ]
    },
    {
      "cell_type": "code",
      "execution_count": 10,
      "metadata": {
        "colab": {
          "base_uri": "https://localhost:8080/"
        },
        "id": "DRZLzlbvhd4s",
        "outputId": "c471c8c0-1eb2-4287-c426-8b0ccb08a83e"
      },
      "outputs": [
        {
          "output_type": "stream",
          "name": "stdout",
          "text": [
            "Requirement already satisfied: newsapi-python in /usr/local/lib/python3.7/dist-packages (0.2.6)\n",
            "Requirement already satisfied: requests<3.0.0 in /usr/local/lib/python3.7/dist-packages (from newsapi-python) (2.23.0)\n",
            "Requirement already satisfied: idna<3,>=2.5 in /usr/local/lib/python3.7/dist-packages (from requests<3.0.0->newsapi-python) (2.10)\n",
            "Requirement already satisfied: certifi>=2017.4.17 in /usr/local/lib/python3.7/dist-packages (from requests<3.0.0->newsapi-python) (2021.10.8)\n",
            "Requirement already satisfied: chardet<4,>=3.0.2 in /usr/local/lib/python3.7/dist-packages (from requests<3.0.0->newsapi-python) (3.0.4)\n",
            "Requirement already satisfied: urllib3!=1.25.0,!=1.25.1,<1.26,>=1.21.1 in /usr/local/lib/python3.7/dist-packages (from requests<3.0.0->newsapi-python) (1.24.3)\n",
            "Collecting git+https://github.com/rwalk/gsdmm.git\n",
            "  Cloning https://github.com/rwalk/gsdmm.git to /tmp/pip-req-build-63kd6oco\n",
            "  Running command git clone -q https://github.com/rwalk/gsdmm.git /tmp/pip-req-build-63kd6oco\n",
            "Requirement already satisfied: numpy in /usr/local/lib/python3.7/dist-packages (from gsdmm==0.1) (1.21.6)\n",
            "Building wheels for collected packages: gsdmm\n",
            "  Building wheel for gsdmm (setup.py) ... \u001b[?25l\u001b[?25hdone\n",
            "  Created wheel for gsdmm: filename=gsdmm-0.1-py3-none-any.whl size=4602 sha256=5cb1b81418bf1733f607e258f055e49ec8e81982f687d5dde32b1d61f64ab807\n",
            "  Stored in directory: /tmp/pip-ephem-wheel-cache-io_tsrlh/wheels/34/65/a6/7eef67b88abae954fecd22587bd755c27b58a9ffe488d6b0de\n",
            "Successfully built gsdmm\n",
            "Installing collected packages: gsdmm\n",
            "Successfully installed gsdmm-0.1\n"
          ]
        }
      ],
      "source": [
        "!pip install newsapi-python\n",
        "!pip install git+https://github.com/rwalk/gsdmm.git"
      ]
    },
    {
      "cell_type": "code",
      "source": [
        "import pandas as pd\n",
        "import gensim\n",
        "import numpy as np\n",
        "from gsdmm import MovieGroupProcess\n",
        "from textblob import TextBlob\n",
        "from gensim.parsing.preprocessing import remove_stopwords\n",
        "from gensim.parsing.preprocessing import STOPWORDS\n",
        "from gensim.corpora.textcorpus import lower_to_unicode\n",
        "from nltk.corpus import stopwords\n",
        "import nltk"
      ],
      "metadata": {
        "id": "YaImSLmXnpoI"
      },
      "execution_count": 11,
      "outputs": []
    },
    {
      "cell_type": "code",
      "source": [
        "from newsapi import NewsApiClient\n",
        "\n",
        "# Init\n",
        "newsapi = NewsApiClient(api_key='API KEY')"
      ],
      "metadata": {
        "id": "5qZR94luhjUv"
      },
      "execution_count": 3,
      "outputs": []
    },
    {
      "cell_type": "code",
      "source": [
        "# /v2/everything\n",
        "headlines = newsapi.get_everything(q='ukraine',\n",
        "                                          #sources='bbc-news,the-verge',\n",
        "                                          language='en',\n",
        "                                       page_size=100)"
      ],
      "metadata": {
        "id": "bdUrTMjY_jop"
      },
      "execution_count": 4,
      "outputs": []
    },
    {
      "cell_type": "code",
      "source": [
        "# Example of looping through the headlines and grabbing the article descriptions\n",
        "# You can do the same for the content ['content']\n",
        "\n",
        "for article in headlines['articles']:\n",
        "  print(article['description'])"
      ],
      "metadata": {
        "id": "KhRfhdjMhxcv"
      },
      "execution_count": null,
      "outputs": []
    },
    {
      "cell_type": "code",
      "source": [
        "# If you'd like to add additional stopwords\n",
        "stop = STOPWORDS.union(set(['new word', 'another new word']))\n",
        "\n",
        "# How many topics would you like\n",
        "# Expirement with this number\n",
        "num1 = 20\n",
        "\n",
        "# put your articles into a variale called docs or update the code below"
      ],
      "metadata": {
        "id": "d6wfdGLR_LJF"
      },
      "execution_count": null,
      "outputs": []
    },
    {
      "cell_type": "code",
      "source": [
        "def top_words(cluster_word_distribution, top_cluster, values):\n",
        "    for cluster in top_cluster:\n",
        "        sort_dicts = sorted(cluster_word_distribution[cluster].items(), key=lambda k: k[1], reverse=True)[:values]\n",
        "\n",
        "        print(\"\\nCluster %s , %s\"%(cluster, sort_dicts))"
      ],
      "metadata": {
        "id": "joW5U6cjo7Ff"
      },
      "execution_count": null,
      "outputs": []
    },
    {
      "cell_type": "code",
      "source": [
        "dictionary = gensim.corpora.Dictionary(docs)\n",
        "\n",
        "\n",
        "dictionary.filter_extremes(no_below=15, no_above=0.3, keep_n=100000)\n",
        "vocab_length = len(dictionary)\n",
        "\n",
        "bow_corpus = [dictionary.doc2bow(doc) for doc in docs]\n",
        "\n",
        "gsdmm = MovieGroupProcess(K= num1, alpha=0.1, beta=0.9, n_iters=15)\n",
        "\n",
        "\n",
        "y = gsdmm.fit(docs, vocab_length)\n",
        "\n",
        "#let us print using the function above\n",
        "top_words(gsdmm.cluster_word_distribution, top_index, 20)\n",
        "\n",
        "doc_count = np.array(gsdmm.cluster_doc_count)\n",
        "print('Number of documents per topic :', doc_count)\n",
        "top_index = doc_count.argsort()[-15:][::-1]\n",
        "print('Most important clusters (by number of docs inside):', top_index)"
      ],
      "metadata": {
        "id": "zmJ3YRaDoo-W"
      },
      "execution_count": null,
      "outputs": []
    }
  ]
}