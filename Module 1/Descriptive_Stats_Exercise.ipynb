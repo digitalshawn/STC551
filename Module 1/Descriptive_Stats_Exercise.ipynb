{
  "nbformat": 4,
  "nbformat_minor": 0,
  "metadata": {
    "colab": {
      "name": "Descriptive Stats Exercise.ipynb",
      "provenance": [],
      "authorship_tag": "ABX9TyMxancreL6MpUDBRBnYp1um",
      "include_colab_link": true
    },
    "kernelspec": {
      "name": "python3",
      "display_name": "Python 3"
    },
    "language_info": {
      "name": "python"
    }
  },
  "cells": [
    {
      "cell_type": "markdown",
      "metadata": {
        "id": "view-in-github",
        "colab_type": "text"
      },
      "source": [
        "<a href=\"https://colab.research.google.com/github/digitalshawn/STC551/blob/main/Module%201/Descriptive_Stats_Exercise.ipynb\" target=\"_parent\"><img src=\"https://colab.research.google.com/assets/colab-badge.svg\" alt=\"Open In Colab\"/></a>"
      ]
    },
    {
      "cell_type": "markdown",
      "source": [
        "# Descriptive Stastics in Python Exercise - Module 1\n",
        "\n",
        "In this exercise we will use a dataset related to a collection of individual fundraising campaigns created via the [GoFundMe](https://gofundme.com) website. The data comes from a [project on Github](https://github.com/lmeninato/GoFundMe/) which collected information about GoFundMe projects in 2018.\n",
        "\n",
        "You will apply your knowledge of descriptive stastics and skills from the data wrangling course to summarize information about specific categories of projects. I've stubbed out a series of steps below. I will describe each task and leave an open code block for you to complete the task. Please use text blocks to summarize your analysis. Use your own knowledge and the [Module 1 example descriptive stats notebook](https://github.com/digitalshawn/STC551/blob/main/Module%201/Descriptive%20Stats%20Example.ipynb) as a guide, but you may use other techniques to answer the prompts.\n",
        "\n",
        "## What to submit via Canvas\n",
        "\n",
        "Download a copy of your completed notebook from Google Colab (File --> Download --> Download .ipynb) and upload it to Canvas for this assignment. Please make sure that you run all code blocks so I can see the output when I open the notebook file.\n",
        "\n",
        "## Help! I have questions!\n",
        "\n",
        "You may email me with questions or ask to setup a Zoom meeting so we can look at your code together. You may also use the Canvas discussion board to ask questions and share tips. While I ask that you do not collaborate on answers, you may discuss the assignment via Canvas. Keeping any discussions public allows everyone to benefit!"
      ],
      "metadata": {
        "id": "FWPASuhCScx4"
      }
    },
    {
      "cell_type": "markdown",
      "source": [
        "# Let's Get Started!\n",
        "\n",
        "### Task hints\n",
        "\n",
        "*   `instructions in this style require you to write and execute python code in a code block`\n",
        "*   instructions in this style require you to write a summary, analysis, or explanation in a text block\n",
        "\n",
        "\n",
        "\n",
        "\n",
        "Here we load the modules we will use in this script. They are the same modules that are used in the [example notebook](https://github.com/digitalshawn/STC551/blob/main/Module%201/Descriptive%20Stats%20Example.ipynb)."
      ],
      "metadata": {
        "id": "pRhJ5ojlpPKv"
      }
    },
    {
      "cell_type": "code",
      "execution_count": 1,
      "metadata": {
        "id": "Rs_rPmDXSWwT"
      },
      "outputs": [],
      "source": [
        "import numpy as np # linear algebra\n",
        "import pandas as pd # data processing, CSV file I/O (e.g. pd.read_csv)\n",
        "import plotly.express as px # accessible module for plotting graphs\n",
        "from scipy.stats import skew, kurtosis # to analyze the skew of our dataset\n",
        "import plotly.figure_factory as ff"
      ]
    },
    {
      "cell_type": "markdown",
      "source": [
        "# Loading the GoFundMe Data\n",
        "\n",
        "Below we load the GoFundMe data directly via its GitHub URL. Briefly take a look [at the data file](https://raw.githubusercontent.com/lmeninato/GoFundMe/master/data-raw/GFM_data.csv). You'll see that although the files ends in .csv, the fields are delimited (seperated) via a tab and not a comma. You'll see that I've flagged this for panda's read_csv() function using the `sep` argument and setting it equal to a tab (`\\t`).\n",
        "\n"
      ],
      "metadata": {
        "id": "UX_Ebg9zp91-"
      }
    },
    {
      "cell_type": "code",
      "source": [
        "df = pd.read_csv(\"https://raw.githubusercontent.com/lmeninato/GoFundMe/master/data-raw/GFM_data.csv\", sep=\"\\t\")\n"
      ],
      "metadata": {
        "id": "0j2ir6e1UK2q"
      },
      "execution_count": 4,
      "outputs": []
    },
    {
      "cell_type": "markdown",
      "source": [
        "# Let's explore the data file\n",
        "\n",
        "1.   `show the first few rows of the data file.`\n",
        "2.   List and describe the meaning of each row\n",
        "\n",
        "\n",
        "\n",
        "\n"
      ],
      "metadata": {
        "id": "AK5yv-XLq1sk"
      }
    },
    {
      "cell_type": "markdown",
      "source": [
        "*list and description of column headers go here*"
      ],
      "metadata": {
        "id": "xdcgg-3otLvB"
      }
    },
    {
      "cell_type": "markdown",
      "source": [
        "# Campaigns by Category\n",
        "\n",
        "\n",
        "\n",
        "1.   `How many campaigns are in each category?`\n",
        "2.   `What is the average $ amount raised in each category?`\n",
        "3.   `What is the average fundraising goal in each category?`\n",
        "4.   Provide a text summary of the results\n",
        "\n",
        "*feel free to use multiple code blocks if you'd like*\n",
        "\n"
      ],
      "metadata": {
        "id": "mLJ0FgOJtYBM"
      }
    },
    {
      "cell_type": "code",
      "source": [
        ""
      ],
      "metadata": {
        "id": "ErRt43U8URcs"
      },
      "execution_count": null,
      "outputs": []
    },
    {
      "cell_type": "markdown",
      "source": [
        "*summarize output here*"
      ],
      "metadata": {
        "id": "aRs7IRWZurx3"
      }
    },
    {
      "cell_type": "markdown",
      "source": [
        "# Looking for outliers in shares and hearts\n",
        "\n",
        "\n",
        "\n",
        "1.   `Select 3 catgories and create a boxplot of the FB shares and GFM hearts`\n",
        "2.   `Plot the outliers in the boxplot`\n",
        "1.   `Calculate the mean, median, mode, std deviation, and variance for the 3 categories' FB shares and GFM hearts`\n",
        "3.   Summarize these results. What conclusions can you come to about these results?\n",
        "\n"
      ],
      "metadata": {
        "id": "Sh4MExqcuyoo"
      }
    },
    {
      "cell_type": "code",
      "source": [
        ""
      ],
      "metadata": {
        "id": "O2phWHH2uyWL"
      },
      "execution_count": null,
      "outputs": []
    },
    {
      "cell_type": "markdown",
      "source": [
        "*summarize your outlier results here*"
      ],
      "metadata": {
        "id": "AVjkY8dvvbcI"
      }
    },
    {
      "cell_type": "markdown",
      "source": [
        "# Explore on your own\n",
        "\n",
        "1. Select one category and use descriptive stats to explore the success of campaigns in this category.\n",
        "1. Use graphs where approporiate.\n",
        "1. Provide commentary aling the way on what descriptive measures you are using and why.\n",
        "1. Provide a one to two paragraph summary of the success of this category.\n",
        "\n",
        "*use as many code and text blocks along the way*\n",
        "*Also make sure to consult the pandas and plotly documentation along the way*"
      ],
      "metadata": {
        "id": "217FQIZEvgZ-"
      }
    },
    {
      "cell_type": "code",
      "source": [
        ""
      ],
      "metadata": {
        "id": "KkW0cPbAUZbL"
      },
      "execution_count": null,
      "outputs": []
    }
  ]
}