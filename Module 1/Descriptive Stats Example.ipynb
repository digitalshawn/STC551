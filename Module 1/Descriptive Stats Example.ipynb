{
  "metadata": {
    "kernelspec": {
      "language": "python",
      "display_name": "Python 3",
      "name": "python3"
    },
    "language_info": {
      "pygments_lexer": "ipython3",
      "nbconvert_exporter": "python",
      "version": "3.6.4",
      "file_extension": ".py",
      "codemirror_mode": {
        "name": "ipython",
        "version": 3
      },
      "name": "python",
      "mimetype": "text/x-python"
    },
    "colab": {
      "name": "notebook38aa21125c.ipynb",
      "provenance": [],
      "collapsed_sections": [],
      "include_colab_link": true
    }
  },
  "nbformat_minor": 0,
  "nbformat": 4,
  "cells": [
    {
      "cell_type": "markdown",
      "metadata": {
        "id": "view-in-github",
        "colab_type": "text"
      },
      "source": [
        "<a href=\"https://colab.research.google.com/github/digitalshawn/STC551/blob/main/Module%201/Descriptive%20Stats%20Example.ipynb\" target=\"_parent\"><img src=\"https://colab.research.google.com/assets/colab-badge.svg\" alt=\"Open In Colab\"/></a>"
      ]
    },
    {
      "cell_type": "markdown",
      "source": [
        "# Descriptive Stats Example - Analysis of Heart Attacks"
      ],
      "metadata": {
        "id": "lSAzrtacdp8W"
      }
    },
    {
      "cell_type": "markdown",
      "source": [
        "In this notebook, we will analyze data from the [UCI Machine Learning Repository Heart Attack Analysis & Prediction Dataset](http://archive.ics.uci.edu/ml/datasets/Heart+Disease). Follow the link to review the data set description. We will examine measures of central tendency (mean, median, mode) as well as the standard deviation, variance, and spread. You will also find examples of how to graph many of the measures in the code below.\n",
        "\n",
        "We will use the following python modules in the code below:\n",
        "\n",
        "*   [pandas](https://pandas.pydata.org/docs/index.html) - a common data analysis toolkit\n",
        "*   [plotly](https://plotly.com/python/) - for plotting graphs\n",
        "*   [scipy.stats](https://docs.scipy.org/doc/scipy/reference/stats.html) - to analyze the skew of the data\n",
        "\n",
        "\n",
        "\n",
        "\n",
        "**There are many paths...**\n",
        "\n",
        "*NOTE: While this code provide an example pattern for you to use -- via the pandas and plotly modules -- you may use whatever modules you are comfortable. An important part of this work is to recgonize that there is more than one approach to exploring or analyzing data.*\n",
        "\n",
        "This example is based upon the [Descriptive Statistics using pandas](https://github.com/elakapoor/Descriptive_analysis_python/blob/0348d2fbd4c2b9ff7835a564008ebfff559d4d64/descriptive-statistics-using-pandas.ipynb) notebook by ELAKAPOOR."
      ],
      "metadata": {
        "id": "Mw3zC-uPdzQ_"
      }
    },
    {
      "cell_type": "markdown",
      "source": [
        "# Loadin the python modules"
      ],
      "metadata": {
        "id": "Rp24umHpozxB"
      }
    },
    {
      "cell_type": "code",
      "source": [
        "# Comments start with a '#' and will not be executed\n",
        "\n",
        "import numpy as np # linear algebra\n",
        "import pandas as pd # data processing, CSV file I/O (e.g. pd.read_csv)\n",
        "import plotly.express as px # accessible module for plotting graphs\n",
        "from scipy.stats import skew, kurtosis # to analyze the skew of our dataset\n",
        "import plotly.figure_factory as ff"
      ],
      "metadata": {
        "_uuid": "8f2839f25d086af736a60e9eeb907d3b93b6e0e5",
        "_cell_guid": "b1076dfc-b9ad-4769-8c92-a6c4dae69d19",
        "execution": {
          "iopub.status.busy": "2022-02-16T08:51:22.381629Z",
          "iopub.execute_input": "2022-02-16T08:51:22.382125Z",
          "iopub.status.idle": "2022-02-16T08:51:24.008268Z",
          "shell.execute_reply.started": "2022-02-16T08:51:22.382034Z",
          "shell.execute_reply": "2022-02-16T08:51:24.007232Z"
        },
        "trusted": true,
        "id": "5t3m3F9kdp8Z"
      },
      "execution_count": null,
      "outputs": []
    },
    {
      "cell_type": "markdown",
      "source": [
        "# Loading the data\n",
        "\n",
        "The data for this example in CSV format which we can load directly into a pandas dataframe (think Excel table).  I've put the data in Google Drive which pandas can load directly via a open URL.\n",
        "\n",
        "Below we load the data into a pandas dataframe, discard the columns we will do not plan to use for this example, and start to examine the data before we dive into the analysis.\n",
        "\n",
        "*NOTE: Something to try... Click the little wand icon next to the table output below to load an interactive version of the dataframe.*"
      ],
      "metadata": {
        "id": "6Dt_AM7lWtce"
      }
    },
    {
      "cell_type": "code",
      "source": [
        "df = pd.read_csv(\"https://drive.google.com/u/0/uc?id=1P6_2pBH_qvtJ1mW0X773LlhUWqfnB2mm&export=download\")\n",
        "\n",
        "# We are only keeping a subset of the data (i.e. dropping columns we will not use in this example)\n",
        "df = df[[\"age\", \"sex\", 'exng', 'cp', 'trtbps', 'chol', 'fbs', 'restecg', 'output']]\n",
        "\n",
        "# head() displays the first n rols of a dataframe.  This is an easy ways to take a peak at our data\n",
        "df.head()"
      ],
      "metadata": {
        "execution": {
          "iopub.status.busy": "2022-02-16T08:51:24.009945Z",
          "iopub.execute_input": "2022-02-16T08:51:24.01017Z",
          "iopub.status.idle": "2022-02-16T08:51:24.033797Z",
          "shell.execute_reply.started": "2022-02-16T08:51:24.010138Z",
          "shell.execute_reply": "2022-02-16T08:51:24.03312Z"
        },
        "trusted": true,
        "id": "1HIQYtcRdp8c"
      },
      "execution_count": null,
      "outputs": []
    },
    {
      "cell_type": "markdown",
      "source": [
        "# What do each of the columns mean\n",
        "*It is important that we understand the data and its context. Information about each column is provided below so we can start exploring the data*\n",
        "\n",
        "1. **Age** : Age of the patient\n",
        "2. **Sex** : Sex of the patient (1 = male; 0 = female)\n",
        "3. **exang**: exercise induced angina (1 = yes; 0 = no)\n",
        "4. ca: number of major vessels (0-3)\n",
        "5. **cp** : Chest Pain type chest pain type\n",
        "    6. Value 1: typical angina\n",
        "    7. Value 2: atypical angina\n",
        "    8. Value 3: non-anginal pain\n",
        "    9. Value 4: asymptomatic\n",
        "10. **trtbps** : resting blood pressure (in mm Hg)\n",
        "11. **chol** : cholestoral in mg/dl fetched via BMI sensor\n",
        "12. **fbs** : (fasting blood sugar > 120 mg/dl) (1 = true; 0 = false)\n",
        "13. **rest_ecg** : resting electrocardiographic results\n",
        "    14. Value 0: normal\n",
        "    15. Value 1: having ST-T wave abnormality (T wave inversions and/or ST elevation or depression of > 0.05 mV)\n",
        "    16. Value 2: showing probable or definite left ventricular hypertrophy by Estes' criteria\n",
        "17. thalach : maximum heart rate achieved\n",
        "18. target : 0= less chance of heart attack 1= more chance of heart attack\n",
        "\n"
      ],
      "metadata": {
        "id": "HmTsPh6Qdp8b"
      }
    },
    {
      "cell_type": "code",
      "source": [
        "# len() returns the length of an object. For a dataframe, it returns the number of rows.\n",
        "len(df)"
      ],
      "metadata": {
        "execution": {
          "iopub.status.busy": "2022-02-16T08:51:24.044005Z",
          "iopub.execute_input": "2022-02-16T08:51:24.044634Z",
          "iopub.status.idle": "2022-02-16T08:51:24.056206Z",
          "shell.execute_reply.started": "2022-02-16T08:51:24.044599Z",
          "shell.execute_reply": "2022-02-16T08:51:24.055293Z"
        },
        "trusted": true,
        "id": "g3OIO8Rtdp8c"
      },
      "execution_count": null,
      "outputs": []
    },
    {
      "cell_type": "code",
      "source": [
        "df.describe()"
      ],
      "metadata": {
        "id": "DZsaaN-5q00p"
      },
      "execution_count": null,
      "outputs": []
    },
    {
      "cell_type": "markdown",
      "source": [
        "# Central Tendency\n",
        "It is measured using 3M's that is mean, median and mode.\n",
        "1. Mean: It is defined as the average of the values present.\n",
        "2. Median: It is the centrally located value of the dataset when arranged in ascending order.\n",
        "3. Mode: It is the most frequent value in the dataset.<br>\n",
        "Now the question arises how are these values useful in data analysis of data science. To answer it let us see the following graph.\n"
      ],
      "metadata": {
        "id": "oTQKDItzdp8d"
      }
    },
    {
      "cell_type": "code",
      "source": [
        "x = df[\"age\"]\n",
        "hist_data = [x]\n",
        "group_labels = ['age'] # name of the dataset\n",
        "\n",
        "fig = ff.create_distplot(hist_data, group_labels, show_rug=False)\n",
        "fig.update_layout(title = \"Distribution of age\")\n",
        "fig.show()\n",
        "\n",
        "print(\"Mean age:\", df[\"age\"].mean())\n",
        "print(\"Median age:\", df[\"age\"].median())\n",
        "print(\"Mode of age:\", df[\"age\"].mode())\n",
        "print(\"Skewness: \", skew(df[\"age\"]))"
      ],
      "metadata": {
        "execution": {
          "iopub.status.busy": "2022-02-16T08:51:24.057855Z",
          "iopub.execute_input": "2022-02-16T08:51:24.058116Z",
          "iopub.status.idle": "2022-02-16T08:51:24.128628Z",
          "shell.execute_reply.started": "2022-02-16T08:51:24.058086Z",
          "shell.execute_reply": "2022-02-16T08:51:24.127448Z"
        },
        "trusted": true,
        "id": "aUd9PiFpdp8e"
      },
      "execution_count": null,
      "outputs": []
    },
    {
      "cell_type": "markdown",
      "source": [
        "From the graph above we have following observations:\n",
        "1. The average value is around 54 years\n",
        "2. The centrally located vale is median which is 55\n",
        "3. The most frequent values is 58<br>\n",
        "Now we can see that the curve is not a perfect gaussian curve or bell shaped curve. The tail of the curve is towards left so it is a left skew curve (negative value above). So how does these values justify the curve shape? If we arrange our values for mean, median and mode we see that:<br>\n",
        "Mode > Median > Mean (shows left skewness)<br>\n",
        "Mode < Median < Mean (shows right skewness)<br>\n",
        "Mode = Median = Mean (perfect bell shape curve)<br>\n",
        "Hence these values provides the knowledge about the shape of the data distribution curve. Which makes it easier to deal with the data. \n",
        "Also, we see that mean is nearly equal to median which can tell us that there maybe no outliers present. Let us confirm it."
      ],
      "metadata": {
        "id": "fl2DxJYudp8e"
      }
    },
    {
      "cell_type": "markdown",
      "source": [
        "# Central Tendency by Sex\n",
        "Let's calculate the same central tendency measures but split the data by sex. From the data definitions, we know that sex is coded as male and female (1 = male; 0 = female).\n",
        "\n",
        "To do so we will slice out data into two datafames, one where sex == 1 (male) and the other where sex == 0 (female).\n",
        "\n",
        "**After running this code, what differences do you see between males and females?**\n"
      ],
      "metadata": {
        "id": "I9u4_8UrrZCG"
      }
    },
    {
      "cell_type": "markdown",
      "source": [
        "We can use panda's [.value_counts()](https://pandas.pydata.org/pandas-docs/stable/reference/api/pandas.DataFrame.value_counts.html) function to get the count of the values in a column (it works on both numerical and catagorical data!). This will show us the count of females and males in the dataset. Is the dataset evenly distributed by sex?"
      ],
      "metadata": {
        "id": "qrbEQy3U-5hG"
      }
    },
    {
      "cell_type": "code",
      "source": [
        "df[\"sex\"].value_counts()"
      ],
      "metadata": {
        "id": "CkqKUCOu-0Tx"
      },
      "execution_count": null,
      "outputs": []
    },
    {
      "cell_type": "code",
      "source": [
        "# Create a new dataframe that only includes 'males' (sex == 1)\n",
        "dfm = df[df.sex == 1]\n",
        "\n",
        "# Create a dataframe that only includes the age column\n",
        "xm = dfm[\"age\"]\n",
        "hist_data = [xm]\n",
        "group_labels = ['age'] # name of the dataset\n",
        "\n",
        "# Create the distribution plot using the data we generated above\n",
        "fig = ff.create_distplot(hist_data, group_labels, show_rug=False)\n",
        "# Add a title\n",
        "fig.update_layout(title = \"Distribution of age -- Male\")\n",
        "# Show the plot, without this there will not be any output!\n",
        "fig.show()\n",
        "\n",
        "# Display central tendency measures\n",
        "print(\"Mean age:\", dfm[\"age\"].mean())\n",
        "print(\"Median age:\", dfm[\"age\"].median())\n",
        "print(\"Mode of age:\", dfm[\"age\"].mode())\n",
        "print(\"Skewness: \", skew(dfm[\"age\"]))\n",
        "print(\"Rows in dataset: \", len(dfm))\n",
        "\n",
        "# Now we do the same thing, but for females in the dataset\n",
        "\n",
        "# Create a new dataframe that only includes 'females' (sex == 0)\n",
        "dff = df[df.sex ==0]\n",
        "xf = dff[\"age\"]\n",
        "hist_data = [xf]\n",
        "group_labels = ['age'] # name of the dataset\n",
        "\n",
        "fig = ff.create_distplot(hist_data, group_labels, show_rug=False)\n",
        "fig.update_layout(title = \"Distribution of age -- Female\")\n",
        "fig.show()\n",
        "\n",
        "print(\"Mean age:\", dff[\"age\"].mean())\n",
        "print(\"Median age:\", dff[\"age\"].median())\n",
        "print(\"Mode of age:\", dff[\"age\"].mode())\n",
        "print(\"Skewness: \", skew(dff[\"age\"]))\n",
        "print(\"Rows in dataset: \", len(dff))"
      ],
      "metadata": {
        "id": "XEbm2ZrhrycJ"
      },
      "execution_count": null,
      "outputs": []
    },
    {
      "cell_type": "code",
      "source": [
        "# boxplot represent presence or absence of outliers\n",
        "fig = px.box(df, x = \"age\", title = \"distribution of age\")\n",
        "fig.show()"
      ],
      "metadata": {
        "execution": {
          "iopub.status.busy": "2022-02-16T08:51:24.130381Z",
          "iopub.execute_input": "2022-02-16T08:51:24.131037Z",
          "iopub.status.idle": "2022-02-16T08:51:24.37353Z",
          "shell.execute_reply.started": "2022-02-16T08:51:24.130986Z",
          "shell.execute_reply": "2022-02-16T08:51:24.372689Z"
        },
        "trusted": true,
        "id": "L5qbtTd4dp8f"
      },
      "execution_count": null,
      "outputs": []
    },
    {
      "cell_type": "code",
      "source": [
        "# Now let us create the same boxplot, but split it by sex\n",
        "# We can use the dfm and dff dataframess we already created\n",
        "fig = px.box(dfm, x = \"age\", title = \"distribution of age - male\")\n",
        "fig.show()\n",
        "\n",
        "fig = px.box(dff, x = \"age\", title = \"distribution of age - female\")\n",
        "fig.show()"
      ],
      "metadata": {
        "id": "y2BkGCKpw3Gy"
      },
      "execution_count": null,
      "outputs": []
    },
    {
      "cell_type": "markdown",
      "source": [
        "# Spread\n",
        "It is a variability of the data within a distribution.This spread is the distribution of the data around the central tendency. It can be measured using the following metrics:<br>\n",
        "1. Range\n",
        "2. Quartile\n",
        "3. Variance\n",
        "4. Standard Deviation<br>\n"
      ],
      "metadata": {
        "id": "L_hqo5LFdp8f"
      }
    },
    {
      "cell_type": "markdown",
      "source": [
        "**Range:** It can be measured as the difference between the largest and smallest values\n",
        "\n",
        "Pandas provides functions for us to get the max and min of a column\n",
        "\n",
        "*   [DataFrame.min()](https://pandas.pydata.org/pandas-docs/stable/reference/api/pandas.DataFrame.min.html#pandas.DataFrame.min) provides us with the minimum value in a set\n",
        "*   [DataFrame.max()](https://pandas.pydata.org/pandas-docs/stable/reference/api/pandas.Series.max.html#pandas.Series.max) provides us with the maximum value in a set\n",
        "\n"
      ],
      "metadata": {
        "id": "kCSGD97ydp8g"
      }
    },
    {
      "cell_type": "code",
      "source": [
        "range_chol = df[\"chol\"].max() - df[\"chol\"].min()\n",
        "print(\"The range of the cholestrol level is:\",range_chol)"
      ],
      "metadata": {
        "execution": {
          "iopub.status.busy": "2022-02-16T08:51:24.374735Z",
          "iopub.execute_input": "2022-02-16T08:51:24.375021Z",
          "iopub.status.idle": "2022-02-16T08:51:24.38123Z",
          "shell.execute_reply.started": "2022-02-16T08:51:24.374991Z",
          "shell.execute_reply": "2022-02-16T08:51:24.380362Z"
        },
        "trusted": true,
        "id": "jEYVojqQdp8g"
      },
      "execution_count": null,
      "outputs": []
    },
    {
      "cell_type": "markdown",
      "source": [
        "We can also use panda's [.describe()](https://pandas.pydata.org/pandas-docs/stable/reference/api/pandas.Series.describe.html) function to get a number of descriptive stats about an entire dataframe or a column. You can seen an example for cholestrol levels below."
      ],
      "metadata": {
        "id": "QSyETJanyPki"
      }
    },
    {
      "cell_type": "code",
      "source": [
        "df.chol.describe()"
      ],
      "metadata": {
        "id": "R17NJnX-yO5C"
      },
      "execution_count": null,
      "outputs": []
    },
    {
      "cell_type": "code",
      "source": [
        "x = df[\"chol\"]\n",
        "hist_data = [x]\n",
        "group_labels = ['cholestrol'] # name of the dataset\n",
        "\n",
        "fig = ff.create_distplot(hist_data, group_labels, show_rug=False)\n",
        "fig.update_layout(title = \"Distribution of cholestrol levels\")\n",
        "fig.show()"
      ],
      "metadata": {
        "execution": {
          "iopub.status.busy": "2022-02-16T08:51:24.382611Z",
          "iopub.execute_input": "2022-02-16T08:51:24.382843Z",
          "iopub.status.idle": "2022-02-16T08:51:24.409556Z",
          "shell.execute_reply.started": "2022-02-16T08:51:24.382814Z",
          "shell.execute_reply": "2022-02-16T08:51:24.408157Z"
        },
        "trusted": true,
        "id": "zGhMSIr4dp8g"
      },
      "execution_count": null,
      "outputs": []
    },
    {
      "cell_type": "markdown",
      "source": [
        "Here the values are concentrated between 200-300 but we see the range is 438. The reason is because of outliers in the data.<br>\n",
        "The curve is right skewed curve. Here as a practice you can calculate the central tendency and see the above equation for right skew matches."
      ],
      "metadata": {
        "id": "xTL5Kdixdp8g"
      }
    },
    {
      "cell_type": "markdown",
      "source": [
        "**Quartiles:** As a name suggest it represent quarter of the data and divides the data in \n",
        "4 equal parts. Namely 25%(Q1), 50%(Q2), 75%(Q3). The data is arranged in ascending order\n",
        "which is the reason median and Q2 are equal. <br>\n",
        "**IQR** is a range between Q1 and Q3. IQR is preferred over a range as it is not influence by outliers. IQR is used to measure variability by splitting a data set into four equal quartiles.<br>\n",
        "Find Outlier = [(Q1 – 1.5 * IQR), (Q3 + 1.5 * IQR)]<br>\n",
        "Any number not in range is outlier<br>\n",
        "The quartiles and outliers can be explained with the help of box plot."
      ],
      "metadata": {
        "id": "qtHUCfj7dp8h"
      }
    },
    {
      "cell_type": "code",
      "source": [
        "fig = px.box(df, x = \"chol\", title = \"Distribution of cholestrol levels\")\n",
        "fig.show()"
      ],
      "metadata": {
        "execution": {
          "iopub.status.busy": "2022-02-16T08:51:24.4111Z",
          "iopub.execute_input": "2022-02-16T08:51:24.411643Z",
          "iopub.status.idle": "2022-02-16T08:51:24.475417Z",
          "shell.execute_reply.started": "2022-02-16T08:51:24.411601Z",
          "shell.execute_reply": "2022-02-16T08:51:24.474364Z"
        },
        "trusted": true,
        "id": "mmD1i-tvdp8h"
      },
      "execution_count": null,
      "outputs": []
    },
    {
      "cell_type": "code",
      "source": [
        "df.chol.describe()"
      ],
      "metadata": {
        "execution": {
          "iopub.status.busy": "2022-02-16T08:51:24.479141Z",
          "iopub.execute_input": "2022-02-16T08:51:24.47952Z",
          "iopub.status.idle": "2022-02-16T08:51:24.489865Z",
          "shell.execute_reply.started": "2022-02-16T08:51:24.479476Z",
          "shell.execute_reply": "2022-02-16T08:51:24.488975Z"
        },
        "trusted": true,
        "id": "zAZP9qtNdp8h"
      },
      "execution_count": null,
      "outputs": []
    },
    {
      "cell_type": "code",
      "source": [
        "# Look at the output of describe above. You'll see the Q1 (25%) is the 4th value (start counting from 0) from the output of describe.\n",
        "# We can use these values to find the outliers.\n",
        "\n",
        "# Outlier calculation\n",
        "#IQR = Q3 - Q1\n",
        "Q1 = df.chol.describe()[4]\n",
        "#Q1 = 211.0\n",
        "#Q2 = 240.0\n",
        "Q2 = df.chol.describe()[5]\n",
        "#Q3 = 274.5\n",
        "Q3 = df.chol.describe()[6]\n",
        "IQR = Q3 - Q1\n",
        "#IQR = 274.5 - 211\n",
        "outlier1 = (Q1 - 1.5 * IQR)\n",
        "outlier2 = (Q3 + 1.5 * IQR)\n",
        "print(f\"The numbers outside the range of {outlier1} and {outlier2} will be considered as outliers\")\n",
        "print(\"The box plot verify our calculation. All the values greater than {outlier2} are shown as outliers.\")"
      ],
      "metadata": {
        "execution": {
          "iopub.status.busy": "2022-02-16T08:51:24.491594Z",
          "iopub.execute_input": "2022-02-16T08:51:24.49186Z",
          "iopub.status.idle": "2022-02-16T08:51:24.50674Z",
          "shell.execute_reply.started": "2022-02-16T08:51:24.491822Z",
          "shell.execute_reply": "2022-02-16T08:51:24.505668Z"
        },
        "trusted": true,
        "id": "Ktlhzs6bdp8h"
      },
      "execution_count": null,
      "outputs": []
    },
    {
      "cell_type": "markdown",
      "source": [
        "**Variance:** It is a statistical parameter used to quantify spread. It measures how far each number in the set from the mean and thus from every other number in the set.\n",
        "Observation near to mean value gets the lower result and far from means gets higher value.\n",
        "1. A high variance indicates that the numbers are far from the mean and far from each other. \n",
        "2. A low variance indicates that the numbers are close to the mean and to each other. \n",
        "3. If variance is 0 that means that all the numbers in the dataset are the identical. \n",
        "4. The valid variance is always a positive number (0 or more).\n",
        "<br>\n",
        "**Standard Deviation:** It is a square root of variance. It is more commonly used because the unit measure is easy to calculate spread.<br>\n",
        "For example in variance the unit is kg<sup>2</sup> whereas in standard deviation it is kg."
      ],
      "metadata": {
        "id": "PV59VZUmdp8i"
      }
    },
    {
      "cell_type": "code",
      "source": [
        "# case of very high variance as per the plot above\n",
        "print(\"Variance: \",df[\"chol\"].var())\n",
        "print(\"Standard Deviation: \", df[\"chol\"].std())"
      ],
      "metadata": {
        "execution": {
          "iopub.status.busy": "2022-02-16T08:51:24.508275Z",
          "iopub.execute_input": "2022-02-16T08:51:24.50918Z",
          "iopub.status.idle": "2022-02-16T08:51:24.521129Z",
          "shell.execute_reply.started": "2022-02-16T08:51:24.509142Z",
          "shell.execute_reply": "2022-02-16T08:51:24.51996Z"
        },
        "trusted": true,
        "id": "DndgRUj8dp8i"
      },
      "execution_count": null,
      "outputs": []
    },
    {
      "cell_type": "markdown",
      "source": [
        "# Normalization\n",
        "In it values are shifted and rescaled so that they end up ranging between 0 and 1. It is also known as Min-Max scaling. When the curve does not follow the gaussian distribution it is good to do normalization."
      ],
      "metadata": {
        "execution": {
          "iopub.status.busy": "2022-02-15T09:29:51.657648Z",
          "iopub.execute_input": "2022-02-15T09:29:51.65796Z",
          "iopub.status.idle": "2022-02-15T09:29:51.666006Z",
          "shell.execute_reply.started": "2022-02-15T09:29:51.65793Z",
          "shell.execute_reply": "2022-02-15T09:29:51.664865Z"
        },
        "id": "RovgQl1Jdp8i"
      }
    },
    {
      "cell_type": "code",
      "source": [
        "df[\"normalized_chol\"]=(df[\"chol\"]-df[\"chol\"].min())/(df[\"chol\"].max()-df[\"chol\"].min())"
      ],
      "metadata": {
        "execution": {
          "iopub.status.busy": "2022-02-16T08:51:24.522659Z",
          "iopub.execute_input": "2022-02-16T08:51:24.523345Z",
          "iopub.status.idle": "2022-02-16T08:51:24.536386Z",
          "shell.execute_reply.started": "2022-02-16T08:51:24.523294Z",
          "shell.execute_reply": "2022-02-16T08:51:24.535625Z"
        },
        "trusted": true,
        "id": "EgZA8US3dp8i"
      },
      "execution_count": null,
      "outputs": []
    },
    {
      "cell_type": "code",
      "source": [
        "x = df[\"normalized_chol\"]\n",
        "hist_data = [x]\n",
        "group_labels = ['normalized cholestrol'] # name of the dataset\n",
        "\n",
        "fig = ff.create_distplot(hist_data, group_labels, show_rug=False)\n",
        "fig.update_layout(title = \"Distribution of normalized cholestrol levels\")\n",
        "fig.show()"
      ],
      "metadata": {
        "execution": {
          "iopub.status.busy": "2022-02-16T08:51:24.538103Z",
          "iopub.execute_input": "2022-02-16T08:51:24.538483Z",
          "iopub.status.idle": "2022-02-16T08:51:24.56985Z",
          "shell.execute_reply.started": "2022-02-16T08:51:24.538438Z",
          "shell.execute_reply": "2022-02-16T08:51:24.568197Z"
        },
        "trusted": true,
        "id": "XbK1IQCAdp8i"
      },
      "execution_count": null,
      "outputs": []
    },
    {
      "cell_type": "markdown",
      "source": [
        "Compared to the above curve (Fig:1) we can conclude following:\n",
        "1. The spread is less now\n",
        "2. The height of the curve is increased\n",
        "3. All values as in range of 0 to 1"
      ],
      "metadata": {
        "id": "ST4b9eZ5dp8i"
      }
    }
  ]
}